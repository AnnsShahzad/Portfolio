{
 "cells": [
  {
   "cell_type": "code",
   "execution_count": 48,
   "id": "3763988a",
   "metadata": {},
   "outputs": [],
   "source": [
    "from scipy.stats import norm\n",
    "from numpy import mean\n",
    "from numpy import std as std_va\n",
    "import pandas as pd"
   ]
  },
  {
   "cell_type": "code",
   "execution_count": 49,
   "id": "b140a655",
   "metadata": {},
   "outputs": [
    {
     "data": {
      "text/html": [
       "<div>\n",
       "<style scoped>\n",
       "    .dataframe tbody tr th:only-of-type {\n",
       "        vertical-align: middle;\n",
       "    }\n",
       "\n",
       "    .dataframe tbody tr th {\n",
       "        vertical-align: top;\n",
       "    }\n",
       "\n",
       "    .dataframe thead th {\n",
       "        text-align: right;\n",
       "    }\n",
       "</style>\n",
       "<table border=\"1\" class=\"dataframe\">\n",
       "  <thead>\n",
       "    <tr style=\"text-align: right;\">\n",
       "      <th></th>\n",
       "      <th>Sepal Length</th>\n",
       "      <th>Sepal Width</th>\n",
       "      <th>Petal Length</th>\n",
       "      <th>Petal width</th>\n",
       "      <th>Class of Iris</th>\n",
       "    </tr>\n",
       "  </thead>\n",
       "  <tbody>\n",
       "    <tr>\n",
       "      <th>0</th>\n",
       "      <td>5.1</td>\n",
       "      <td>3.5</td>\n",
       "      <td>1.4</td>\n",
       "      <td>0.2</td>\n",
       "      <td>Iris-setosa</td>\n",
       "    </tr>\n",
       "    <tr>\n",
       "      <th>1</th>\n",
       "      <td>4.9</td>\n",
       "      <td>3.0</td>\n",
       "      <td>1.4</td>\n",
       "      <td>0.2</td>\n",
       "      <td>Iris-setosa</td>\n",
       "    </tr>\n",
       "    <tr>\n",
       "      <th>2</th>\n",
       "      <td>4.7</td>\n",
       "      <td>3.2</td>\n",
       "      <td>1.3</td>\n",
       "      <td>0.2</td>\n",
       "      <td>Iris-setosa</td>\n",
       "    </tr>\n",
       "    <tr>\n",
       "      <th>3</th>\n",
       "      <td>4.6</td>\n",
       "      <td>3.1</td>\n",
       "      <td>1.5</td>\n",
       "      <td>0.2</td>\n",
       "      <td>Iris-setosa</td>\n",
       "    </tr>\n",
       "    <tr>\n",
       "      <th>4</th>\n",
       "      <td>5.0</td>\n",
       "      <td>3.6</td>\n",
       "      <td>1.4</td>\n",
       "      <td>0.2</td>\n",
       "      <td>Iris-setosa</td>\n",
       "    </tr>\n",
       "  </tbody>\n",
       "</table>\n",
       "</div>"
      ],
      "text/plain": [
       "   Sepal Length  Sepal Width  Petal Length  Petal width Class of Iris\n",
       "0           5.1          3.5           1.4          0.2   Iris-setosa\n",
       "1           4.9          3.0           1.4          0.2   Iris-setosa\n",
       "2           4.7          3.2           1.3          0.2   Iris-setosa\n",
       "3           4.6          3.1           1.5          0.2   Iris-setosa\n",
       "4           5.0          3.6           1.4          0.2   Iris-setosa"
      ]
     },
     "execution_count": 49,
     "metadata": {},
     "output_type": "execute_result"
    }
   ],
   "source": [
    "q = pd.read_csv(\"iris_dataset.csv\")\n",
    "df = pd.DataFrame(data)\n",
    "df.head()"
   ]
  },
  {
   "cell_type": "code",
   "execution_count": 50,
   "id": "592b56e9",
   "metadata": {},
   "outputs": [],
   "source": [
    "def dist(q):\n",
    "    mn= mean(q)\n",
    "    s = std_va(q)\n",
    "    d = norm(mn, s)\n",
    "    return d"
   ]
  },
  {
   "cell_type": "code",
   "execution_count": 54,
   "id": "6fe5000d",
   "metadata": {},
   "outputs": [
    {
     "name": "stdout",
     "output_type": "stream",
     "text": [
      "   Sepal Length  Sepal Width  Petal Length  Petal width\n",
      "0           5.1          3.5           1.4          0.2\n",
      "1           4.9          3.0           1.4          0.2\n",
      "2           4.7          3.2           1.3          0.2\n",
      "3           4.6          3.1           1.5          0.2\n",
      "4           5.0          3.6           1.4          0.2\n"
     ]
    }
   ],
   "source": [
    "is_ = q[['Sepal Length','Sepal Width','Petal Length','Petal width']]\n",
    "y = q['Class of Iris']\n",
    "print(is_.head())"
   ]
  },
  {
   "cell_type": "code",
   "execution_count": 52,
   "id": "8a999dfe",
   "metadata": {},
   "outputs": [],
   "source": [
    "def probability(is_, prior, dist1, dist2, dist3, dist4):\n",
    "    return prior * dist1.pdf(is_[0]) * dist2.pdf(is_[1]) * dist3.pdf(is_[2]) * dist4.pdf(is_[3])"
   ]
  },
  {
   "cell_type": "code",
   "execution_count": 20,
   "id": "76301b05",
   "metadata": {},
   "outputs": [],
   "source": [
    "for i in range(y.count()):\n",
    "    a = (y[i] == 'Iris-setosa')\n",
    "    b = (y[i] == 'Iris-versicolor')\n",
    "    c = (y[i] == 'Iris-virginica') \n",
    "    if a == True:\n",
    "        y[i]=0\n",
    "    elif b == True:\n",
    "        y[i]=1\n",
    "    elif c == True:\n",
    "        y[i]=2\n",
    "    else:\n",
    "        pass\n",
    "        "
   ]
  },
  {
   "cell_type": "code",
   "execution_count": 44,
   "id": "6bbcb82d",
   "metadata": {},
   "outputs": [],
   "source": [
    "is_y0 = is_[y==0]"
   ]
  },
  {
   "cell_type": "code",
   "execution_count": 45,
   "id": "99e505b8",
   "metadata": {},
   "outputs": [],
   "source": [
    "is_y1 = is_[y==1]"
   ]
  },
  {
   "cell_type": "code",
   "execution_count": 46,
   "id": "38afe905",
   "metadata": {},
   "outputs": [],
   "source": [
    "is_y2 = is_[y==2]"
   ]
  },
  {
   "cell_type": "code",
   "execution_count": 26,
   "id": "53037b60",
   "metadata": {},
   "outputs": [],
   "source": [
    "prior0 = len(is_y0)/len(X)\n",
    "prior1 = len(is_y1)/len(X)\n",
    "prior2 = len(is_y2)/len(X)"
   ]
  },
  {
   "cell_type": "code",
   "execution_count": 28,
   "id": "8d00ef42",
   "metadata": {
    "scrolled": true
   },
   "outputs": [
    {
     "name": "stdout",
     "output_type": "stream",
     "text": [
      "5.005999999999999 0.348946987377739\n",
      "3.4180000000000006 0.37719490982779713\n",
      "1.464 0.17176728442867115\n",
      "0.2439999999999999 0.10613199329137278\n"
     ]
    }
   ],
   "source": [
    "distX1y0 = dist(is_y0.iloc[:,0])\n",
    "distX2y0 = dist(is_y0.iloc[:,1])\n",
    "distX3y0 = dist(is_y0.iloc[:,2])\n",
    "distX4y0 = dist(is_y0.iloc[:,3])"
   ]
  },
  {
   "cell_type": "code",
   "execution_count": 30,
   "id": "5909d354",
   "metadata": {},
   "outputs": [
    {
     "name": "stdout",
     "output_type": "stream",
     "text": [
      "5.936 0.5109833656783752\n",
      "2.7700000000000005 0.31064449134018135\n",
      "4.26 0.4651881339845204\n",
      "1.3259999999999998 0.19576516544063702\n"
     ]
    }
   ],
   "source": [
    "distX1y1 = dist(is_y1.iloc[:,0])\n",
    "distX2y1 = dist(is_y1.iloc[:,1])\n",
    "distX3y1 = dist(is_y1.iloc[:,2])\n",
    "distX4y1 = dist(is_y1.iloc[:,3])"
   ]
  },
  {
   "cell_type": "code",
   "execution_count": 31,
   "id": "8559983c",
   "metadata": {},
   "outputs": [
    {
     "name": "stdout",
     "output_type": "stream",
     "text": [
      "6.587999999999998 0.6294886813914925\n",
      "2.9739999999999998 0.319255383666431\n",
      "5.552 0.5463478745268441\n",
      "2.026 0.2718896835115301\n"
     ]
    }
   ],
   "source": [
    "distX1y2 = dist(is_y2.iloc[:,0])\n",
    "distX2y2 = dist(is_y2.iloc[:,1])\n",
    "distX3y2 = dist(is_y2.iloc[:,2])\n",
    "distX4y2 = dist(is_y2.iloc[:,3])"
   ]
  },
  {
   "cell_type": "code",
   "execution_count": 32,
   "id": "1c1a976f",
   "metadata": {},
   "outputs": [
    {
     "name": "stdout",
     "output_type": "stream",
     "text": [
      "Enter the length of Sepal: 1.9\n",
      "Enter the width of Sepal: 3.5\n",
      "Enter the length of Petal: 2.4\n",
      "Enter the Width of Petal 4.5\n",
      "\n",
      "It belongs to Iris-virginica.\n"
     ]
    }
   ],
   "source": [
    "sepalLength = float(input(\"Enter the length of Sepal: \"))\n",
    "sepalWidth = float(input(\"Enter the width of Sepal: \"))\n",
    "petalLength = float(input(\"Enter the length of Petal: \"))\n",
    "petalWidth = float(input(\"Enter the Width of Petal \"))\n",
    "\n",
    "sample = [sepalLength,sepalWidth,petalLength,petalWidth]\n",
    "\n",
    "p0 = probability(sample,prior0,distX1y0,distX2y0,distX3y0,distX4y0)\n",
    "p1 = probability(sample,prior1,distX1y1,distX2y1,distX3y1,distX4y1)\n",
    "p2 = probability(sample,prior2,distX1y2,distX2y2,distX3y2,distX4y2)\n",
    "\n",
    "if p2 < p0 > p1:\n",
    "    print(\"\\nIt belongs to Iris-setosa.\")\n",
    "\n",
    "elif p2 < p1 >p0:\n",
    "    print(\"\\nIt belongs to Iris-versicolor.\")\n",
    "    \n",
    "elif p0 < p2 > p1:\n",
    "    print(\"\\nIt belongs to Iris-virginica.\")    "
   ]
  },
  {
   "cell_type": "code",
   "execution_count": null,
   "id": "29e99bcb",
   "metadata": {},
   "outputs": [],
   "source": []
  }
 ],
 "metadata": {
  "kernelspec": {
   "display_name": "Python 3 (ipykernel)",
   "language": "python",
   "name": "python3"
  },
  "language_info": {
   "codemirror_mode": {
    "name": "ipython",
    "version": 3
   },
   "file_extension": ".py",
   "mimetype": "text/x-python",
   "name": "python",
   "nbconvert_exporter": "python",
   "pygments_lexer": "ipython3",
   "version": "3.9.7"
  }
 },
 "nbformat": 4,
 "nbformat_minor": 5
}
