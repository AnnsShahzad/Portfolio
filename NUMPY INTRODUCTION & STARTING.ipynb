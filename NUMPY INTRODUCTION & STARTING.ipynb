{
 "cells": [
  {
   "cell_type": "markdown",
   "id": "73887cc2",
   "metadata": {},
   "source": [
    "# Memory Size of Python List VS Numpy Array"
   ]
  },
  {
   "cell_type": "code",
   "execution_count": 11,
   "id": "eb44f1ca",
   "metadata": {},
   "outputs": [
    {
     "name": "stdout",
     "output_type": "stream",
     "text": [
      "42000000\n"
     ]
    }
   ],
   "source": [
    "import sys \n",
    "\n",
    "listt=range(1500000)\n",
    "print(sys.getsizeof(10) * len(listt))"
   ]
  },
  {
   "cell_type": "code",
   "execution_count": 12,
   "id": "23cd4a4f",
   "metadata": {},
   "outputs": [
    {
     "name": "stdout",
     "output_type": "stream",
     "text": [
      "6000000\n"
     ]
    }
   ],
   "source": [
    "import sys as s\n",
    "import numpy as np\n",
    "\n",
    "numpylist = np.arange(1500000)\n",
    "print(numpylist.size*numpylist.itemsize)"
   ]
  },
  {
   "cell_type": "markdown",
   "id": "1e832861",
   "metadata": {},
   "source": [
    "# Running time of Python List VS Numpy Array"
   ]
  },
  {
   "cell_type": "code",
   "execution_count": 22,
   "id": "6d34db09",
   "metadata": {},
   "outputs": [
    {
     "name": "stdout",
     "output_type": "stream",
     "text": [
      "Python List Took:  1605.1990985870361\n"
     ]
    }
   ],
   "source": [
    "import numpy as np\n",
    "import time as t\n",
    "\n",
    "size = 10000000\n",
    "\n",
    "L1 = range(size)\n",
    "L2 = range(size)\n",
    "\n",
    "#Python List\n",
    "start = t.time()\n",
    "result = [(x+y) for x, y in zip(L1,L2)]\n",
    "print(\"Python List Took: \", (t.time()-start)*1000)\n"
   ]
  },
  {
   "cell_type": "code",
   "execution_count": 23,
   "id": "e6d8b062",
   "metadata": {},
   "outputs": [
    {
     "name": "stdout",
     "output_type": "stream",
     "text": [
      "Numpy array took:  400.9251594543457\n"
     ]
    }
   ],
   "source": [
    "import numpy as np\n",
    "import time as t\n",
    "\n",
    "size = 100000000\n",
    "\n",
    "#Numpy Array\n",
    "A1 = np.arange(size)\n",
    "A2 = np.arange(size)\n",
    "\n",
    "start = t.time()\n",
    "result = A1 + A2\n",
    "print(\"Numpy array took: \", (t.time()-start)*1000)"
   ]
  },
  {
   "cell_type": "markdown",
   "id": "7a75fea3",
   "metadata": {},
   "source": [
    "# Python List Operations VS Numpy Array"
   ]
  },
  {
   "cell_type": "code",
   "execution_count": 28,
   "id": "b9341ff2",
   "metadata": {},
   "outputs": [
    {
     "name": "stdout",
     "output_type": "stream",
     "text": [
      "[5, 7, 9]\n",
      "[-3, -3, -3]\n",
      "[4, 10, 18]\n",
      "[0.25, 0.4, 0.5]\n"
     ]
    }
   ],
   "source": [
    "#Python List\n",
    "\n",
    "l1=[1,2,3]\n",
    "l2=[4,5,6]\n",
    "\n",
    "result = [(x+y) for x,y in zip(l1,l2)]\n",
    "print (result)\n",
    "\n",
    "result = [(x-y) for x,y in zip(l1,l2)]\n",
    "print (result)\n",
    "\n",
    "result = [(x*y) for x,y in zip(l1,l2)]\n",
    "print (result)\n",
    "\n",
    "result = [(x/y) for x,y in zip(l1,l2)]\n",
    "print (result)"
   ]
  },
  {
   "cell_type": "code",
   "execution_count": 29,
   "id": "4e03b7d0",
   "metadata": {},
   "outputs": [
    {
     "name": "stdout",
     "output_type": "stream",
     "text": [
      "[5 7 9]\n",
      "[-3 -3 -3]\n",
      "[ 4 10 18]\n",
      "[0.25 0.4  0.5 ]\n"
     ]
    }
   ],
   "source": [
    "#Numpy Array\n",
    "\n",
    "import numpy as np\n",
    "\n",
    "a1=np.array([1,2,3])\n",
    "a2=np.array([4,5,6])\n",
    "\n",
    "print (a1+a2)\n",
    "print (a1-a2)\n",
    "print (a1*a2)\n",
    "print (a1/a2)"
   ]
  },
  {
   "cell_type": "markdown",
   "id": "49db06ba",
   "metadata": {},
   "source": [
    "# ndim Property in Numpy"
   ]
  },
  {
   "cell_type": "code",
   "execution_count": 39,
   "id": "fd9de132",
   "metadata": {},
   "outputs": [
    {
     "name": "stdout",
     "output_type": "stream",
     "text": [
      "[[1 2 3]\n",
      " [4 5 6]\n",
      " [7 8 9]]\n"
     ]
    },
    {
     "data": {
      "text/plain": [
       "2"
      ]
     },
     "execution_count": 39,
     "metadata": {},
     "output_type": "execute_result"
    }
   ],
   "source": [
    "import numpy as np\n",
    "\n",
    "aa=np.array([[1,2,3],[4,5,6],[7,8,9]])\n",
    "print(aa)\n",
    "\n",
    "aa.ndim\n",
    "\n"
   ]
  },
  {
   "cell_type": "code",
   "execution_count": 38,
   "id": "0515bc22",
   "metadata": {},
   "outputs": [
    {
     "name": "stdout",
     "output_type": "stream",
     "text": [
      "[1 2 3]\n"
     ]
    },
    {
     "data": {
      "text/plain": [
       "1"
      ]
     },
     "execution_count": 38,
     "metadata": {},
     "output_type": "execute_result"
    }
   ],
   "source": [
    "import numpy as np\n",
    "\n",
    "a=np.array([1,2,3])\n",
    "print(a)\n",
    "a.ndim"
   ]
  },
  {
   "cell_type": "markdown",
   "id": "d87f6eaf",
   "metadata": {},
   "source": [
    "# Itemsize Property in Numpy"
   ]
  },
  {
   "cell_type": "code",
   "execution_count": 41,
   "id": "86e2bfbc",
   "metadata": {},
   "outputs": [
    {
     "name": "stdout",
     "output_type": "stream",
     "text": [
      "[[1 2 3]\n",
      " [4 5 6]\n",
      " [7 8 9]]\n",
      "\n",
      "SIZE IN BYTES:  4\n"
     ]
    }
   ],
   "source": [
    "import numpy as np\n",
    "\n",
    "aa=np.array([[1,2,3],[4,5,6],[7,8,9]])\n",
    "print(aa)\n",
    "print()\n",
    "print(\"SIZE IN BYTES: \",aa.itemsize)"
   ]
  },
  {
   "cell_type": "markdown",
   "id": "d015c115",
   "metadata": {},
   "source": [
    "# Change Data Type of Numpy Array Elements"
   ]
  },
  {
   "cell_type": "code",
   "execution_count": 44,
   "id": "3cf6bb16",
   "metadata": {},
   "outputs": [
    {
     "name": "stdout",
     "output_type": "stream",
     "text": [
      "Current Data Type:  int32\n",
      "SIZE IN BYTES:  4\n",
      "[[1 2 3]\n",
      " [4 5 6]\n",
      " [7 8 9]]\n",
      "\n",
      "DataType in Float Converted:  float64\n",
      "SIZE IN BYTES:  8\n",
      "[[1. 2. 3.]\n",
      " [4. 5. 6.]\n",
      " [7. 8. 9.]]\n"
     ]
    }
   ],
   "source": [
    "import numpy as np\n",
    "\n",
    "aa=np.array([[1,2,3],[4,5,6],[7,8,9]])\n",
    "print(\"Current Data Type: \", aa.dtype)\n",
    "print(\"SIZE IN BYTES: \",aa.itemsize)\n",
    "print(aa)\n",
    "print()\n",
    "aa=np.array([[1,2,3],[4,5,6],[7,8,9]], dtype=np.float64)\n",
    "print(\"DataType in Float Converted: \",aa.dtype )\n",
    "print(\"SIZE IN BYTES: \",aa.itemsize)\n",
    "print(aa)\n"
   ]
  },
  {
   "cell_type": "markdown",
   "id": "5f826510",
   "metadata": {},
   "source": [
    "# Size Property Numpy Array "
   ]
  },
  {
   "cell_type": "code",
   "execution_count": 45,
   "id": "51603af1",
   "metadata": {},
   "outputs": [
    {
     "name": "stdout",
     "output_type": "stream",
     "text": [
      "Total no of Elements:  9\n"
     ]
    }
   ],
   "source": [
    "import numpy as np\n",
    "\n",
    "aa=np.array([[1,2,3],[4,5,6],[7,8,9]])\n",
    "print(\"Total no of Elements: \", aa.size)"
   ]
  },
  {
   "cell_type": "markdown",
   "id": "9f57e1f6",
   "metadata": {},
   "source": [
    "# Show Shape (row,coloumn) Numpy Array Elements"
   ]
  },
  {
   "cell_type": "code",
   "execution_count": 46,
   "id": "efd7cb0e",
   "metadata": {},
   "outputs": [
    {
     "name": "stdout",
     "output_type": "stream",
     "text": [
      "Order of Matrix(Array):  (3, 3)\n"
     ]
    }
   ],
   "source": [
    "import numpy as np\n",
    "\n",
    "aa=np.array([[1,2,3],[4,5,6],[7,8,9]])\n",
    "print(\"Order of Matrix(Array): \", aa.shape)"
   ]
  },
  {
   "cell_type": "markdown",
   "id": "0558af39",
   "metadata": {},
   "source": [
    "# Complex no Intialization of Numpy Array Elements"
   ]
  },
  {
   "cell_type": "code",
   "execution_count": 47,
   "id": "1f36d8f6",
   "metadata": {},
   "outputs": [
    {
     "name": "stdout",
     "output_type": "stream",
     "text": [
      "[[1.+0.j 2.+0.j 3.+0.j]\n",
      " [4.+0.j 5.+0.j 6.+0.j]\n",
      " [7.+0.j 8.+0.j 9.+0.j]]\n"
     ]
    }
   ],
   "source": [
    "import numpy as np\n",
    "\n",
    "aa=np.array([[1,2,3],[4,5,6],[7,8,9]], dtype=complex)\n",
    "print(aa)"
   ]
  },
  {
   "cell_type": "markdown",
   "id": "616cd389",
   "metadata": {},
   "source": [
    "# Zeros() function of Numpy Array Elements"
   ]
  },
  {
   "cell_type": "code",
   "execution_count": 49,
   "id": "eac740f0",
   "metadata": {},
   "outputs": [
    {
     "name": "stdout",
     "output_type": "stream",
     "text": [
      "[[0. 0.]\n",
      " [0. 0.]\n",
      " [0. 0.]]\n"
     ]
    }
   ],
   "source": [
    "import numpy as np\n",
    "print(np.zeros((3,2))) #np.zeros((rows,coloums))\n"
   ]
  },
  {
   "cell_type": "markdown",
   "id": "ea8c4888",
   "metadata": {},
   "source": [
    "# Ones() function of Numpy Array Elements"
   ]
  },
  {
   "cell_type": "code",
   "execution_count": 50,
   "id": "64a8bc42",
   "metadata": {},
   "outputs": [
    {
     "name": "stdout",
     "output_type": "stream",
     "text": [
      "[[1. 1.]\n",
      " [1. 1.]\n",
      " [1. 1.]]\n"
     ]
    }
   ],
   "source": [
    "import numpy as np\n",
    "print(np.ones((3,2))) #np.zeros((rows,coloums))"
   ]
  },
  {
   "cell_type": "markdown",
   "id": "0b87cbbe",
   "metadata": {},
   "source": [
    "# Arange() function of Numpy Array Elements"
   ]
  },
  {
   "cell_type": "code",
   "execution_count": 51,
   "id": "d2141d01",
   "metadata": {},
   "outputs": [
    {
     "name": "stdout",
     "output_type": "stream",
     "text": [
      "[1 2 3 4]\n"
     ]
    }
   ],
   "source": [
    "import numpy as np\n",
    "print(np.arange(1,5))"
   ]
  },
  {
   "cell_type": "code",
   "execution_count": 52,
   "id": "69fae336",
   "metadata": {},
   "outputs": [
    {
     "name": "stdout",
     "output_type": "stream",
     "text": [
      "[1 3 5 7 9]\n"
     ]
    }
   ],
   "source": [
    "import numpy as np\n",
    "print(np.arange(1,10,2))"
   ]
  },
  {
   "cell_type": "markdown",
   "id": "8e37444f",
   "metadata": {},
   "source": [
    "# linspace() function of Numpy Array Elements"
   ]
  },
  {
   "cell_type": "code",
   "execution_count": 53,
   "id": "ee57b062",
   "metadata": {},
   "outputs": [
    {
     "name": "stdout",
     "output_type": "stream",
     "text": [
      "[1.         1.44444444 1.88888889 2.33333333 2.77777778 3.22222222\n",
      " 3.66666667 4.11111111 4.55555556 5.        ]\n"
     ]
    }
   ],
   "source": [
    "#it creates sequences of evenly spaced numbers structured as a NumPy array. \n",
    "import numpy as np\n",
    "\n",
    "print(np.linspace(1,5,10))"
   ]
  },
  {
   "cell_type": "markdown",
   "id": "1e1fa0b4",
   "metadata": {},
   "source": [
    "# reshape() function of Numpy Array Elements"
   ]
  },
  {
   "cell_type": "code",
   "execution_count": 59,
   "id": "48420b24",
   "metadata": {},
   "outputs": [
    {
     "name": "stdout",
     "output_type": "stream",
     "text": [
      "Order of Matrix(Array):  (2, 3)\n",
      "\n",
      "[[1 2]\n",
      " [3 4]\n",
      " [5 6]]\n"
     ]
    }
   ],
   "source": [
    "import numpy as np\n",
    "\n",
    "aa=np.array([[1,2,3],[4,5,6]])\n",
    "print(\"Order of Matrix(Array): \", aa.shape)\n",
    "\n",
    "print()\n",
    "\n",
    "print(aa.reshape(3,2))"
   ]
  },
  {
   "cell_type": "markdown",
   "id": "7546eeda",
   "metadata": {},
   "source": [
    "# ravel() function of Numpy Array Elements"
   ]
  },
  {
   "cell_type": "code",
   "execution_count": 60,
   "id": "d17a5cf8",
   "metadata": {},
   "outputs": [
    {
     "name": "stdout",
     "output_type": "stream",
     "text": [
      "Current Data Type:  int32\n",
      "SIZE IN BYTES:  4\n",
      "[[1 2 3]\n",
      " [4 5 6]\n",
      " [7 8 9]]\n",
      "\n",
      "[1 2 3 4 5 6 7 8 9]\n"
     ]
    }
   ],
   "source": [
    "#ravel() flaten ur array\n",
    "\n",
    "import numpy as np\n",
    "\n",
    "aa=np.array([[1,2,3],[4,5,6],[7,8,9]])\n",
    "print(\"Current Data Type: \", aa.dtype)\n",
    "print(\"SIZE IN BYTES: \",aa.itemsize)\n",
    "print(aa)\n",
    "\n",
    "print()\n",
    "\n",
    "print(aa.ravel())"
   ]
  },
  {
   "cell_type": "markdown",
   "id": "a702cf11",
   "metadata": {},
   "source": [
    "# Mathematical function of Numpy Array Elements"
   ]
  },
  {
   "cell_type": "code",
   "execution_count": 67,
   "id": "9b7487f8",
   "metadata": {},
   "outputs": [
    {
     "name": "stdout",
     "output_type": "stream",
     "text": [
      "[[1 2 3]\n",
      " [4 5 6]\n",
      " [7 8 9]]\n",
      "1\n",
      "\n",
      "9\n",
      "\n",
      "45\n",
      "\n",
      "[12 15 18]\n",
      "\n",
      "[ 6 15 24]\n",
      "\n",
      "[[1.         1.41421356 1.73205081]\n",
      " [2.         2.23606798 2.44948974]\n",
      " [2.64575131 2.82842712 3.        ]]\n",
      "\n",
      "Dot Product:  [[ 30  24  18]\n",
      " [ 84  69  54]\n",
      " [138 114  90]]\n"
     ]
    }
   ],
   "source": [
    "import numpy as np\n",
    "\n",
    "aa=np.array([[1,2,3],[4,5,6],[7,8,9]])\n",
    "print(aa)\n",
    "\n",
    "print(aa.min())\n",
    "print()\n",
    "print(aa.max())\n",
    "print()\n",
    "print(aa.sum())\n",
    "print()\n",
    "print(aa.sum(axis=0))\n",
    "print()\n",
    "print(aa.sum(axis=1))\n",
    "print()\n",
    "print(np.sqrt(aa))\n",
    "print()\n",
    "bb = np.array([[9,8,7],[6,5,4],[3,2,1]])\n",
    "print(\"Dot Product: \",aa.dot(bb))\n"
   ]
  },
  {
   "cell_type": "markdown",
   "id": "07bf3523",
   "metadata": {},
   "source": [
    "# std() (Standard Deviation) function of Numpy Array Elements"
   ]
  },
  {
   "cell_type": "code",
   "execution_count": 66,
   "id": "8a6109f0",
   "metadata": {},
   "outputs": [
    {
     "name": "stdout",
     "output_type": "stream",
     "text": [
      "2.581988897471611\n"
     ]
    }
   ],
   "source": [
    "import numpy as np\n",
    "\n",
    "aa=np.array([[1,2,3],[4,5,6],[7,8,9]])\n",
    "print(np.std(aa))"
   ]
  },
  {
   "cell_type": "markdown",
   "id": "0a2ef7d7",
   "metadata": {},
   "source": [
    "# Indexing & Slicing of Numpy Array Elements"
   ]
  },
  {
   "cell_type": "code",
   "execution_count": 76,
   "id": "d7308c3f",
   "metadata": {},
   "outputs": [
    {
     "data": {
      "text/plain": [
       "array([6, 7])"
      ]
     },
     "execution_count": 76,
     "metadata": {},
     "output_type": "execute_result"
    }
   ],
   "source": [
    "#numpy arrays slicing is same as python list slicing\n",
    "\n",
    "import numpy as n\n",
    "\n",
    "a=n.array([1,2,3,4,5,6,7])\n",
    "a[-2:]"
   ]
  },
  {
   "cell_type": "code",
   "execution_count": 83,
   "id": "59ef535f",
   "metadata": {},
   "outputs": [
    {
     "name": "stdout",
     "output_type": "stream",
     "text": [
      "6\n"
     ]
    },
    {
     "data": {
      "text/plain": [
       "array([7, 8])"
      ]
     },
     "execution_count": 83,
     "metadata": {},
     "output_type": "execute_result"
    }
   ],
   "source": [
    "import numpy as np\n",
    "aa=np.array([[1,2,3],[4,5,6],[7,8,9]])\n",
    "\n",
    "print(aa[-2,2])\n",
    "aa[-1]\n",
    "\n",
    "aa[-1,0:2]"
   ]
  },
  {
   "cell_type": "markdown",
   "id": "4e97fcac",
   "metadata": {},
   "source": [
    "# Iteration of Numpy Array Elements"
   ]
  },
  {
   "cell_type": "code",
   "execution_count": 117,
   "id": "b389a5c5",
   "metadata": {},
   "outputs": [
    {
     "name": "stdout",
     "output_type": "stream",
     "text": [
      "[1 2 3]\n",
      "[4 5 6]\n",
      "[7 8 9]\n",
      "\n",
      "1\n",
      "2\n",
      "3\n",
      "4\n",
      "5\n",
      "6\n",
      "7\n",
      "8\n",
      "9\n"
     ]
    }
   ],
   "source": [
    "import numpy as np\n",
    "aa=np.array([[1,2,3],[4,5,6],[7,8,9]])\n",
    "\n",
    "for row in aa:\n",
    "    print(row)\n",
    "print()    \n",
    "for cell in aa.flat:\n",
    "    print (cell)"
   ]
  },
  {
   "cell_type": "code",
   "execution_count": 124,
   "id": "318cdb5e",
   "metadata": {},
   "outputs": [
    {
     "name": "stdout",
     "output_type": "stream",
     "text": [
      "1\n",
      "16\n",
      "81\n",
      "256\n",
      "625\n",
      "1296\n",
      "2401\n",
      "4096\n",
      "6561\n",
      "\n",
      "1\n",
      "256\n",
      "2401\n",
      "16\n",
      "625\n",
      "4096\n",
      "81\n",
      "1296\n",
      "6561\n",
      "\n",
      "[   1  256 2401]\n",
      "[  16  625 4096]\n",
      "[  81 1296 6561]\n",
      "\n"
     ]
    }
   ],
   "source": [
    "#USING numpy.nditer\n",
    "\n",
    "for x in np.nditer(aa,order='C'):    #Print from rows order\n",
    "    print(x)\n",
    "\n",
    "print()\n",
    "\n",
    "for x in np.nditer(aa,order='F'):    #Print from Coloumn order\n",
    "    print(x)\n",
    "    \n",
    "print()\n",
    "\n",
    "for x in np.nditer(aa,order='F',flags=['external_loop']):    #Print from Coloumn order\n",
    "    print(x)\n",
    "    \n",
    "print()\n",
    "\n",
    "for x in np.nditer(aa,order='F',op_flags=['readwrite']):\n",
    "    x[...]=x*x\n",
    "    "
   ]
  },
  {
   "cell_type": "code",
   "execution_count": 137,
   "id": "5ad4a427",
   "metadata": {},
   "outputs": [
    {
     "name": "stdout",
     "output_type": "stream",
     "text": [
      "3 1\n",
      "3 256\n",
      "3 6561\n",
      "7 65536\n",
      "7 390625\n",
      "7 1679616\n",
      "11 5764801\n",
      "11 16777216\n",
      "11 43046721\n"
     ]
    }
   ],
   "source": [
    "a=np.arange(3,15,4).reshape(3,1)\n",
    "\n",
    "\n",
    "for x,y in np.nditer([a,aa]):\n",
    "    print(x,y)\n",
    "\n"
   ]
  },
  {
   "cell_type": "markdown",
   "id": "5549eb95",
   "metadata": {},
   "source": [
    "# Stacking of Numpy Array Elements"
   ]
  },
  {
   "cell_type": "code",
   "execution_count": 90,
   "id": "59e6f649",
   "metadata": {},
   "outputs": [
    {
     "name": "stdout",
     "output_type": "stream",
     "text": [
      "[[1 2 3]\n",
      " [4 5 6]\n",
      " [7 8 9]\n",
      " [7 8 9]\n",
      " [4 5 6]\n",
      " [1 2 3]]\n",
      "\n",
      "[[1 2 3 7 8 9]\n",
      " [4 5 6 4 5 6]\n",
      " [7 8 9 1 2 3]]\n"
     ]
    }
   ],
   "source": [
    "import numpy as np\n",
    "aa=np.array([[1,2,3],[4,5,6],[7,8,9]])\n",
    "bb=np.array([[7,8,9],[4,5,6],[1,2,3]])\n",
    "\n",
    "print(np.vstack((aa,bb)))\n",
    "\n",
    "print()\n",
    "\n",
    "print(np.hstack((aa,bb)))"
   ]
  },
  {
   "cell_type": "code",
   "execution_count": 105,
   "id": "f1be871c",
   "metadata": {},
   "outputs": [
    {
     "name": "stdout",
     "output_type": "stream",
     "text": [
      "[array([[ 0,  1],\n",
      "       [10, 11],\n",
      "       [20, 21]]), array([[ 2,  3],\n",
      "       [12, 13],\n",
      "       [22, 23]]), array([[ 4,  5],\n",
      "       [14, 15],\n",
      "       [24, 25]]), array([[ 6,  7],\n",
      "       [16, 17],\n",
      "       [26, 27]]), array([[ 8,  9],\n",
      "       [18, 19],\n",
      "       [28, 29]])]\n",
      "\n",
      "\n",
      "[array([[0, 1, 2, 3, 4, 5, 6, 7, 8, 9]]), array([[10, 11, 12, 13, 14, 15, 16, 17, 18, 19]]), array([[20, 21, 22, 23, 24, 25, 26, 27, 28, 29]])]\n",
      "\n"
     ]
    },
    {
     "data": {
      "text/plain": [
       "array([[10, 11, 12, 13, 14, 15, 16, 17, 18, 19]])"
      ]
     },
     "execution_count": 105,
     "metadata": {},
     "output_type": "execute_result"
    }
   ],
   "source": [
    "a=np.arange(30).reshape(3,10)\n",
    "print(np.hsplit(a,5))\n",
    "print()\n",
    "result=np.hsplit(a,5)\n",
    "result[4]\n",
    "\n",
    "print()\n",
    "print(np.vsplit(a,3))\n",
    "print()\n",
    "result=np.vsplit(a,3)\n",
    "result[1]"
   ]
  },
  {
   "cell_type": "markdown",
   "id": "65bf897b",
   "metadata": {},
   "source": [
    "# Indexing with Boolean arrays of Numpy Array Elements"
   ]
  },
  {
   "cell_type": "code",
   "execution_count": 114,
   "id": "a7e75427",
   "metadata": {},
   "outputs": [
    {
     "name": "stdout",
     "output_type": "stream",
     "text": [
      "[[ 0  1  2]\n",
      " [ 3  4  5]\n",
      " [ 6  7  8]\n",
      " [ 9 10 11]]\n",
      "\n",
      "[[False False False]\n",
      " [False False  True]\n",
      " [ True  True  True]\n",
      " [ True  True  True]]\n",
      "\n",
      "[ 5  6  7  8  9 10 11]\n",
      "\n",
      "[[ 0  1  2]\n",
      " [ 3  4 69]\n",
      " [69 69 69]\n",
      " [69 69 69]]\n"
     ]
    }
   ],
   "source": [
    "aa=np.arange(12).reshape(4,3)\n",
    "print(aa)\n",
    "print()\n",
    "b=aa>4\n",
    "print(b)\n",
    "print()\n",
    "\n",
    "print(aa[b])\n",
    "print()\n",
    "aa[b]=69\n",
    "print(aa)"
   ]
  },
  {
   "cell_type": "markdown",
   "id": "35c50b1f",
   "metadata": {},
   "source": [
    "# The Difference Between Copy and View of Numpy Array Elements"
   ]
  },
  {
   "cell_type": "code",
   "execution_count": 138,
   "id": "2afbcf9c",
   "metadata": {},
   "outputs": [
    {
     "name": "stdout",
     "output_type": "stream",
     "text": [
      "[42  2  3  4  5]\n",
      "[1 2 3 4 5]\n"
     ]
    }
   ],
   "source": [
    "#COPY\n",
    "\n",
    "\n",
    "import numpy as np\n",
    "\n",
    "arr = np.array([1, 2, 3, 4, 5])\n",
    "x = arr.copy()\n",
    "arr[0] = 42\n",
    "\n",
    "print(arr)\n",
    "print(x)"
   ]
  },
  {
   "cell_type": "code",
   "execution_count": 139,
   "id": "5311150e",
   "metadata": {},
   "outputs": [
    {
     "name": "stdout",
     "output_type": "stream",
     "text": [
      "[42  2  3  4  5]\n",
      "[42  2  3  4  5]\n"
     ]
    }
   ],
   "source": [
    "#VIEW\n",
    "\n",
    "import numpy as np\n",
    "\n",
    "arr = np.array([1, 2, 3, 4, 5])\n",
    "x = arr.view()\n",
    "arr[0] = 42\n",
    "\n",
    "print(arr)\n",
    "print(x)\n"
   ]
  },
  {
   "cell_type": "code",
   "execution_count": 140,
   "id": "60f8d113",
   "metadata": {},
   "outputs": [
    {
     "name": "stdout",
     "output_type": "stream",
     "text": [
      "None\n",
      "[1 2 3 4 5]\n"
     ]
    }
   ],
   "source": [
    "#Check if Array Owns it's Data\n",
    "\n",
    "import numpy as np\n",
    "\n",
    "arr = np.array([1, 2, 3, 4, 5])\n",
    "\n",
    "x = arr.copy()\n",
    "y = arr.view()\n",
    "\n",
    "print(x.base)\n",
    "print(y.base)\n"
   ]
  },
  {
   "cell_type": "markdown",
   "id": "8dfcbb60",
   "metadata": {},
   "source": [
    "# Joining NumPy Arrays"
   ]
  },
  {
   "cell_type": "code",
   "execution_count": 141,
   "id": "cc2c6fbb",
   "metadata": {},
   "outputs": [
    {
     "name": "stdout",
     "output_type": "stream",
     "text": [
      "[1 2 3 4 5 6]\n"
     ]
    }
   ],
   "source": [
    "import numpy as np\n",
    "\n",
    "arr1 = np.array([1, 2, 3])\n",
    "\n",
    "arr2 = np.array([4, 5, 6])\n",
    "\n",
    "arr = np.concatenate((arr1, arr2))\n",
    "\n",
    "print(arr)"
   ]
  },
  {
   "cell_type": "code",
   "execution_count": 142,
   "id": "24857d8d",
   "metadata": {},
   "outputs": [
    {
     "name": "stdout",
     "output_type": "stream",
     "text": [
      "[[1 2 5 6]\n",
      " [3 4 7 8]]\n"
     ]
    }
   ],
   "source": [
    "import numpy as np\n",
    "\n",
    "arr1 = np.array([[1, 2], [3, 4]])\n",
    "\n",
    "arr2 = np.array([[5, 6], [7, 8]])\n",
    "\n",
    "arr = np.concatenate((arr1, arr2), axis=1)\n",
    "\n",
    "print(arr)"
   ]
  },
  {
   "cell_type": "code",
   "execution_count": 143,
   "id": "cee01931",
   "metadata": {},
   "outputs": [
    {
     "name": "stdout",
     "output_type": "stream",
     "text": [
      "[[1 2]\n",
      " [3 4]\n",
      " [5 6]\n",
      " [7 8]]\n"
     ]
    }
   ],
   "source": [
    "import numpy as np\n",
    "\n",
    "arr1 = np.array([[1, 2], [3, 4]])\n",
    "\n",
    "arr2 = np.array([[5, 6], [7, 8]])\n",
    "\n",
    "arr = np.concatenate((arr1, arr2), axis=0)\n",
    "\n",
    "print(arr)"
   ]
  },
  {
   "cell_type": "markdown",
   "id": "dc25ea2b",
   "metadata": {},
   "source": [
    "# NumPy Searching Arrays"
   ]
  },
  {
   "cell_type": "code",
   "execution_count": 144,
   "id": "a818a3ea",
   "metadata": {},
   "outputs": [
    {
     "name": "stdout",
     "output_type": "stream",
     "text": [
      "(array([3, 5, 6], dtype=int64),)\n"
     ]
    }
   ],
   "source": [
    "import numpy as np\n",
    "\n",
    "arr = np.array([1, 2, 3, 4, 5, 4, 4])\n",
    "\n",
    "x = np.where(arr == 4)\n",
    "\n",
    "print(x)\n"
   ]
  },
  {
   "cell_type": "code",
   "execution_count": 145,
   "id": "6be02f37",
   "metadata": {},
   "outputs": [
    {
     "name": "stdout",
     "output_type": "stream",
     "text": [
      "(array([1, 3, 5, 7], dtype=int64),)\n"
     ]
    }
   ],
   "source": [
    "import numpy as np\n",
    "\n",
    "arr = np.array([1, 2, 3, 4, 5, 6, 7, 8])\n",
    "\n",
    "x = np.where(arr%2 == 0)\n",
    "\n",
    "print(x)"
   ]
  },
  {
   "cell_type": "code",
   "execution_count": 146,
   "id": "e7c2e43a",
   "metadata": {},
   "outputs": [
    {
     "name": "stdout",
     "output_type": "stream",
     "text": [
      "(array([0, 2, 4, 6], dtype=int64),)\n"
     ]
    }
   ],
   "source": [
    "import numpy as np\n",
    "\n",
    "arr = np.array([1, 2, 3, 4, 5, 6, 7, 8])\n",
    "\n",
    "x = np.where(arr%2 == 1)\n",
    "\n",
    "print(x)"
   ]
  },
  {
   "cell_type": "code",
   "execution_count": 149,
   "id": "fc9edca2",
   "metadata": {},
   "outputs": [
    {
     "name": "stdout",
     "output_type": "stream",
     "text": [
      "1\n",
      "2\n",
      "[1 2 3]\n"
     ]
    }
   ],
   "source": [
    "#Search Sorted\n",
    "\n",
    "import numpy as np\n",
    "\n",
    "arr = np.array([6, 7, 8, 9])\n",
    "\n",
    "x = np.searchsorted(arr, 7)\n",
    "\n",
    "print(x)\n",
    "\n",
    "#Search From the Right Side\n",
    "\n",
    "arr = np.array([6, 7, 8, 9])\n",
    "\n",
    "x = np.searchsorted(arr, 7, side='right')\n",
    "\n",
    "print(x)\n",
    "\n",
    "#Multiple Values\n",
    "\n",
    "arr = np.array([1, 3, 5, 7])\n",
    "\n",
    "x = np.searchsorted(arr, [2, 4, 6])\n",
    "\n",
    "print(x)"
   ]
  },
  {
   "cell_type": "markdown",
   "id": "a2a6b70d",
   "metadata": {},
   "source": [
    "# NumPy Filter Array"
   ]
  },
  {
   "cell_type": "code",
   "execution_count": 150,
   "id": "2662b3f4",
   "metadata": {},
   "outputs": [
    {
     "name": "stdout",
     "output_type": "stream",
     "text": [
      "[41 43]\n"
     ]
    }
   ],
   "source": [
    "import numpy as np\n",
    "\n",
    "arr = np.array([41, 42, 43, 44])\n",
    "\n",
    "x = [True, False, True, False]\n",
    "\n",
    "newarr = arr[x]\n",
    "\n",
    "print(newarr)\n"
   ]
  },
  {
   "cell_type": "markdown",
   "id": "86d6a215",
   "metadata": {},
   "source": [
    "The example above will return [41, 43], why?\n",
    "\n",
    "Because the new filter contains only the values where the filter array had the value True, in this case, index 0 and 2."
   ]
  },
  {
   "cell_type": "code",
   "execution_count": 151,
   "id": "08a4745b",
   "metadata": {},
   "outputs": [
    {
     "name": "stdout",
     "output_type": "stream",
     "text": [
      "[False, False, True, True]\n",
      "[43 44]\n"
     ]
    }
   ],
   "source": [
    "import numpy as np\n",
    "\n",
    "arr = np.array([41, 42, 43, 44])\n",
    "\n",
    "# Create an empty list\n",
    "filter_arr = []\n",
    "\n",
    "# go through each element in arr\n",
    "for element in arr:\n",
    "  # if the element is higher than 42, set the value to True, otherwise False:\n",
    "  if element > 42:\n",
    "    filter_arr.append(True)\n",
    "  else:\n",
    "    filter_arr.append(False)\n",
    "\n",
    "newarr = arr[filter_arr]\n",
    "\n",
    "print(filter_arr)\n",
    "print(newarr)"
   ]
  },
  {
   "cell_type": "code",
   "execution_count": 156,
   "id": "6c1b4b12",
   "metadata": {},
   "outputs": [
    {
     "name": "stdout",
     "output_type": "stream",
     "text": [
      "[True, False, True, False, True, False, True, False, True, False]\n",
      "[0 2 4 6 8]\n"
     ]
    }
   ],
   "source": [
    "import numpy as np\n",
    "\n",
    "arr = np.arange(10)\n",
    "\n",
    "# Create an empty list\n",
    "filter_arr = []\n",
    "\n",
    "# go through each element in arr\n",
    "for element in arr:\n",
    "  # if the element is completely divisble by 2, set the value to True, otherwise False\n",
    "  if element % 2 == 0:\n",
    "    filter_arr.append(True)\n",
    "  else:\n",
    "    filter_arr.append(False)\n",
    "\n",
    "newarr = arr[filter_arr]\n",
    "\n",
    "print(filter_arr)\n",
    "print(newarr)"
   ]
  },
  {
   "cell_type": "code",
   "execution_count": 157,
   "id": "3de9bb6d",
   "metadata": {},
   "outputs": [
    {
     "name": "stdout",
     "output_type": "stream",
     "text": [
      "[False False  True  True]\n",
      "[43 44]\n"
     ]
    }
   ],
   "source": [
    "#Creating Filter Directly From Array\n",
    "\n",
    "import numpy as np\n",
    "\n",
    "arr = np.array([41, 42, 43, 44])\n",
    "\n",
    "filter_arr = arr > 42\n",
    "\n",
    "newarr = arr[filter_arr]\n",
    "\n",
    "print(filter_arr)\n",
    "print(newarr)"
   ]
  }
 ],
 "metadata": {
  "kernelspec": {
   "display_name": "Python 3",
   "language": "python",
   "name": "python3"
  },
  "language_info": {
   "codemirror_mode": {
    "name": "ipython",
    "version": 3
   },
   "file_extension": ".py",
   "mimetype": "text/x-python",
   "name": "python",
   "nbconvert_exporter": "python",
   "pygments_lexer": "ipython3",
   "version": "3.8.8"
  }
 },
 "nbformat": 4,
 "nbformat_minor": 5
}
